{
 "cells": [
  {
   "cell_type": "code",
   "execution_count": 1,
   "metadata": {},
   "outputs": [],
   "source": [
    "import matplotlib.pyplot as plt\n",
    "import matplotlib.patches as mpatches\n",
    "from IPython.core.display import display, HTML\n",
    "import numpy as np\n",
    "import fnmatch\n",
    "import os\n",
    "import random"
   ]
  },
  {
   "cell_type": "code",
   "execution_count": 36,
   "metadata": {},
   "outputs": [],
   "source": [
    "def display_dish(dish, menu, prediction, image):\n",
    "    name = dish\n",
    "    text = '<h2>%s</h2>' \\\n",
    "            '<table border=\"0\" cellpadding=\"10\"><tbody><tr><td>' \\\n",
    "            '<img src=\"%s\" width=\"400\"/></td><td>' \\\n",
    "            '%s</td></tr></tbody></table>'\n",
    "\n",
    "    predictions = ''\n",
    "    for idx, p in enumerate(prediction):\n",
    "        idx += 1\n",
    "        if p == dish:\n",
    "            predictions += '<p><strong>' + str(idx) + '. ' + p + '</strong></p>'\n",
    "        else:\n",
    "            predictions += '<p>' + str(idx) + '. ' + p + '</p>'\n",
    "    display(HTML(text % (name, image, predictions)))"
   ]
  },
  {
   "cell_type": "code",
   "execution_count": 37,
   "metadata": {},
   "outputs": [],
   "source": [
    "import pickle"
   ]
  },
  {
   "cell_type": "code",
   "execution_count": 38,
   "metadata": {},
   "outputs": [
    {
     "data": {
      "text/html": [
       "<h2>rice</h2><table border=\"0\" cellpadding=\"10\"><tbody><tr><td><img src=\"lulus-at-town-and-country-village-palo-alto-6/catering menu/rice/coa7P3KjuWs2S8JYmfooUA.jpg\" width=\"400\"/></td><td><p>1. gyro</p><p>2. monsoon burger</p><p>3. bocadilla</p><p>4. horseradish crusted salmon medallion</p><p>5. french vanilla</p><p>6. fresh fish & chips</p><p>7. zucchini cakes</p><p>8. cebiche la mar</p><p><strong>9. rice</strong></p><p>10. eggplant</p><p>11. pepperfin white tuna</p><p>12. super burrito</p><p>13. petite filet & shrimp</p><p>14. passion scallops and shrimp</p><p>15. stuffed wings 2 pcs</p><p>16. bottomless mimosas</p><p>17. pork belly rice bowl</p><p>18. award winning clam chowder</p><p>19. lemon pepper duck breast</p><p>20. chipotle chicken tostadas</p></td></tr></tbody></table>"
      ],
      "text/plain": [
       "<IPython.core.display.HTML object>"
      ]
     },
     "metadata": {},
     "output_type": "display_data"
    },
    {
     "data": {
      "text/html": [
       "<h2>cebiche la mar</h2><table border=\"0\" cellpadding=\"10\"><tbody><tr><td><img src=\"la-mar-cebicher%C3%ADa-peruana-san-francisco-4/lunch menu/cebiche la mar/Iv6XyCqBhj_rSshyQBupXw.jpg\" width=\"400\"/></td><td><p>1. charbroiled oysters</p><p>2. ravioli</p><p>3. guacamole & new world chips</p><p>4. double cheeseburger</p><p>5. lava flow</p><p>6. croque madame</p><p>7. petite filet & shrimp</p><p>8. family-style bahama chicken (served 8-10)</p><p>9. fish tacos</p><p>10. mojito</p><p>11. pappardelle</p><p>12. seafood combo platter</p><p>13. bulgogi beef</p><p><strong>14. cebiche la mar</strong></p><p>15. hammer 2</p><p>16. passion scallops and shrimp</p></td></tr></tbody></table>"
      ],
      "text/plain": [
       "<IPython.core.display.HTML object>"
      ]
     },
     "metadata": {},
     "output_type": "display_data"
    },
    {
     "data": {
      "text/html": [
       "PGgyPmNhIHN0YXRlIGJpcmQ8L2gyPjx0YWJsZSBib3JkZXI9IjAiIGNlbGxwYWRkaW5nPSIxMCI+PHRib2R5Pjx0cj48dGQ+PGltZyBzcmM9InN0YXRlLWJpcmQtcHJvdmlzaW9ucy1zYW4tZnJhbmNpc2NvL2Rpbm5lciBtZW51L2NhIHN0YXRlIGJpcmQvRXZXNHhmYkJEMTF6Z0gxZzlLSDlYdy5qcGciIHdpZHRoPSI0MDAiLz48L3RkPjx0ZD48cD4xLiBwcmltZSBib25lLWluIHJpYmV5ZSwgMjQgb3o8L3A+PHA+Mi4gc2VhZm9vZCBwYWVsbGE8L3A+PHA+My4gbGFtYiByaWJzPC9wPjxwPjQuIHNxdWFzaCBwaWU8L3A+PHA+NS4gZWdnIHJvbGw8L3A+PHA+Ni4gZ2lnYW50ZXM8L3A+PHA+Ny4gbG9ic3RlciBzYWxhZDwvcD48cD44LiB0YWk8L3A+PHA+OS4gcGV0aXRlIGZpbGV0ICYgc2hyaW1wPC9wPjxwPjEwLiBuaWNhcmFndWFuIGJsYWNrIGJlYW4gc291cDwvcD48cD4xMS4gZ3VpbmVhIGhlbiBkdW1wbGluZ3M8L3A+PHA+MTIuIGNyw6htZSBicnVsZWU8L3A+PHA+MTMuIGdpZ2FudGVzPC9wPjxwPjE0LiBmcmllZCBtb3p6YXJlbGxhPC9wPjxwPjE1LiBkZXZpbGVkIGVnZ3M8L3A+PHA+MTYuIGxhbWIgc2hhd2FybWEgcGxhdGU8L3A+PHA+PHN0cm9uZz4xNy4gY2Egc3RhdGUgYmlyZDwvc3Ryb25nPjwvcD48cD4xOC4gY2hpcG90bGUgY2hpY2tlbiB0b3N0YWRhczwvcD48L3RkPjwvdHI+PC90Ym9keT48L3RhYmxlPg==\n"
      ],
      "text/plain": [
       "<IPython.core.display.HTML object>"
      ]
     },
     "metadata": {},
     "output_type": "display_data"
    },
    {
     "data": {
      "text/html": [
       "<h2>jumbo lump crab cake</h2><table border=\"0\" cellpadding=\"10\"><tbody><tr><td><img src=\"farmhouse-kitchen-thai-cuisine-san-francisco/lunch menu/hat yai fried chicken lunch/6hG7msnBauyHSHXqxklRGA.jpg\" width=\"400\"/></td><td><p>1. salad</p><p>2. open face breakfast</p><p>3. lamb ribs</p><p>4. fried oysters</p><p>5. thai steak</p><p>6. pappardelle bolognese</p><p>7. causa tasting</p><p>8. chicken</p><p>9. gai yang</p><p>10. cebiche la mar</p><p>11. zazie's niman ranch burger</p><p><strong>12. jumbo lump crab cake</strong></p><p>13. salt & pepper calamari</p></td></tr></tbody></table>"
      ],
      "text/plain": [
       "<IPython.core.display.HTML object>"
      ]
     },
     "metadata": {},
     "output_type": "display_data"
    },
    {
     "data": {
      "text/html": [
       "<h2>frisco benedict breakfast</h2><table border=\"0\" cellpadding=\"10\"><tbody><tr><td><img src=\"kitchen-story-san-francisco/breakfast menu/frisco benedict breakfast/spuZ6o7bFgM6O-ZmAkHaiw.jpg\" width=\"400\"/></td><td><p>1. fish tacos</p><p>2. lobster salad</p><p>3. calamari</p><p><strong>4. frisco benedict breakfast</strong></p><p>5. combo 1</p><p>6. truffled garlic bread</p><p>7. bacon</p><p>8. seafood combo platter</p><p>9. pappardelle bolognese</p><p>10. st. louis gooey cake</p><p>11. gigantes</p><p>12. deviled eggs</p><p>13. al pastor</p><p>14. baked burrata & squash</p><p>15. heirloom bean & vegetable soup</p></td></tr></tbody></table>"
      ],
      "text/plain": [
       "<IPython.core.display.HTML object>"
      ]
     },
     "metadata": {},
     "output_type": "display_data"
    },
    {
     "data": {
      "text/html": [
       "<h2>fish tacos</h2><table border=\"0\" cellpadding=\"10\"><tbody><tr><td><img src=\"dukes-malibu-malibu-2/dining-room dinner/fish tacos/qSDGjVGFgFpO09zsmQ7hqQ.jpg\" width=\"400\"/></td><td><p>1. toast</p><p>2. spinach</p><p>3. squeezeburger</p><p>4. caprese salad</p><p>5. causa tasting</p><p>6. chicken</p><p>7. 50 soft tofu jige</p><p>8. french vanilla</p><p>9. grilled oyster</p><p>10. pepperfin white tuna</p><p>11. pot stickers</p><p>12. stuffed wings 2 pcs</p><p>13. baked burrata & squash</p><p>14. turbot noirmoutier</p><p>15. pork belly rice bowl</p><p>16. award winning clam chowder</p><p>17. cream cheese wontons 5 pcs</p><p><strong>18. fish tacos</strong></p><p>19. beef laab salad</p><p>20. bottomless mimosas</p></td></tr></tbody></table>"
      ],
      "text/plain": [
       "<IPython.core.display.HTML object>"
      ]
     },
     "metadata": {},
     "output_type": "display_data"
    },
    {
     "data": {
      "text/html": [
       "<h2>chipotle chicken tostadas</h2><table border=\"0\" cellpadding=\"10\"><tbody><tr><td><img src=\"joya-restaurant-and-lounge-palo-alto/lunch menu/chipotle chicken tostadas/SjBhQypWkZv1-W-Sna9vvQ.jpg\" width=\"400\"/></td><td><p>1. falafel</p><p>2. cajun chicken</p><p>3. garlic noodles</p><p><strong>4. chipotle chicken tostadas</strong></p><p>5. spinach</p><p>6. beignets</p><p>7. avocado</p><p>8. ravioli</p><p>9. cheddar biscuit and gravy</p><p>10. fried rice</p><p>11. chicken fried rice</p><p>12. slow-roasted prime rib</p><p>13. cream cheese wontons 5 pcs</p><p><strong>14. chipotle chicken tostadas</strong></p><p>15. guinea hen dumplings</p></td></tr></tbody></table>"
      ],
      "text/plain": [
       "<IPython.core.display.HTML object>"
      ]
     },
     "metadata": {},
     "output_type": "display_data"
    },
    {
     "data": {
      "text/html": [
       "PGgyPnJpc290dG88L2gyPjx0YWJsZSBib3JkZXI9IjAiIGNlbGxwYWRkaW5nPSIxMCI+PHRib2R5Pjx0cj48dGQ+PGltZyBzcmM9ImdhcnktZGFua28tc2FuLWZyYW5jaXNjby9tZW51L3Jpc290dG8vTDBTNXNEbnFMR2ZEX2NhTTJnV0pRQS5qcGciIHdpZHRoPSI0MDAiLz48L3RkPjx0ZD48cD4xLiBjYWxpZm9ybmlhIHJvbGw8L3A+PHA+Mi4gZ2lnYW50ZXM8L3A+PHA+My4gc3VwcmVtZSBwaXp6YTwvcD48cD40LiBtb25zb29uIGJ1cmdlcjwvcD48cD41LiBzdC4gbG91aXMgZ29vZXkgY2FrZTwvcD48cD42LiBzcXVhc2ggcGllPC9wPjxwPjcuIGJsb29keSBtYXJ5PC9wPjxwPjguIHNocmltcCAmIGdyaXRzPC9wPjxwPjkuIG1hbmdvIHN3YWkgY2F0ZmlzaDwvcD48cD4xMC4gbGF2YSBmbG93PC9wPjxwPjExLiBjdW1pbiBsYW1iPC9wPjxwPjEyLiBjcsOobWUgZnJhw65jaGUgY2hlZXNlY2FrZTwvcD48cD4xMy4gcmFkIHRoYWk8L3A+PHA+MTQuIGhvaXNpbiBsYW1iIGNob3BzPC9wPjxwPjxzdHJvbmc+MTUuIHJpc290dG88L3N0cm9uZz48L3A+PHA+MTYuIHN1cHJlbWUgcGl6emE8L3A+PC90ZD48L3RyPjwvdGJvZHk+PC90YWJsZT4=\n"
      ],
      "text/plain": [
       "<IPython.core.display.HTML object>"
      ]
     },
     "metadata": {},
     "output_type": "display_data"
    },
    {
     "data": {
      "text/html": [
       "<h2>seafood paella</h2><table border=\"0\" cellpadding=\"10\"><tbody><tr><td><img src=\"geoffreys-malibu-malibu/lunch menu/seafood paella/nRwe10TAddyg1_D1fJ8Fww.jpg\" width=\"400\"/></td><td><p>1. toast</p><p>2. spicy shrimp</p><p><strong>3. seafood paella</strong></p><p>4. pappardelle</p><p>5. eggplant</p><p>6. sesame chicken</p><p>7. super burrito</p><p>8. crispy fried half chicken</p><p>9. super</p><p>10. kmg</p><p>11. rainbow roll</p><p>12. charbroiled oysters</p><p>13. cumin lamb</p><p>14. cebiche la mar</p><p>15. rad thai</p><p>16. ' eggs on toast '</p><p>17. guinea hen dumplings</p></td></tr></tbody></table>"
      ],
      "text/plain": [
       "<IPython.core.display.HTML object>"
      ]
     },
     "metadata": {},
     "output_type": "display_data"
    },
    {
     "data": {
      "text/html": [
       "PGgyPnJpbmNvbjwvaDI+PHRhYmxlIGJvcmRlcj0iMCIgY2VsbHBhZGRpbmc9IjEwIj48dGJvZHk+PHRyPjx0ZD48aW1nIHNyYz0iYmFyZS1ib3dscy1wYWxvLWFsdG8vbWVudS9yaW5jb24vQXk2S2JHR25sdjRXUlRRNFJPSzdxQS5qcGciIHdpZHRoPSI0MDAiLz48L3RkPjx0ZD48cD4xLiBjaGVlc2U8L3A+PHA+Mi4gY2Flc2FyIHNhbGFkPC9wPjxwPjMuIGJhbnRpamFuIGJpbCBsYWJhbjwvcD48cD40LiBkYW4gZGFuIG5vb2RsZSAoZHJ5KTwvcD48cD41LiBjcsOobWUgZnJhw65jaGUgY2hlZXNlY2FrZTwvcD48cD42LiBmYWxhZmVsPC9wPjxwPjcuIGF2Z29sZW1vbm88L3A+PHA+OC4gZnJlbmNoIHZhbmlsbGE8L3A+PHA+OS4gZ3VhY2Ftb2xlICYgbmV3IHdvcmxkIGNoaXBzPC9wPjxwPjEwLiBicmVudHdvb2QgY29ybiBhbGZyZWRvPC9wPjxwPjExLiBiYWtlZCBwYXN0YTwvcD48cD4xMi4gaG91c2Ugc2FsYWQ8L3A+PHA+PHN0cm9uZz4xMy4gcmluY29uPC9zdHJvbmc+PC9wPjxwPjE0LiB0dXJib3Qgbm9pcm1vdXRpZXI8L3A+PC90ZD48L3RyPjwvdGJvZHk+PC90YWJsZT4=\n"
      ],
      "text/plain": [
       "<IPython.core.display.HTML object>"
      ]
     },
     "metadata": {},
     "output_type": "display_data"
    },
    {
     "data": {
      "text/html": [
       "<h2>rice</h2><table border=\"0\" cellpadding=\"10\"><tbody><tr><td><img src=\"oz-korean-bbq-sacramento/menu/rice/R3pGQalteaA23QmstpFfSw.jpg\" width=\"400\"/></td><td><p>1. hommus</p><p>2. caprese salad</p><p>3. falafel</p><p>4. mercimek koftesi</p><p>5. calamari</p><p>6. miso black cod</p><p>7. petite filet & shrimp</p><p>8. nicaraguan black bean soup</p><p>9. fried oysters</p><p>10. firebird roll</p><p>11. fried mozzarella</p><p><strong>12. rice</strong></p></td></tr></tbody></table>"
      ],
      "text/plain": [
       "<IPython.core.display.HTML object>"
      ]
     },
     "metadata": {},
     "output_type": "display_data"
    },
    {
     "data": {
      "text/html": [
       "<h2>spicy shrimp</h2><table border=\"0\" cellpadding=\"10\"><tbody><tr><td><img src=\"ruths-chris-steak-house-sacramento/ruth's chris dinner menu/spicy shrimp/B4bYOmudyDiy3V63vZChNg.jpg\" width=\"400\"/></td><td><p>1. mendocino sea urchin</p><p>2. beignets</p><p>3. soup</p><p>4. miso black cod</p><p>5. pollo</p><p>6. caesar salad</p><p><strong>7. spicy shrimp</strong></p><p>8. bloody mary</p><p>9. fried oysters</p><p>10. firebird roll</p><p>11. dan dan noodle (dry)</p><p>12. french vanilla</p><p>13. the hamilton burger</p><p>14. scotch benedict</p><p>15. mozzarella marinara</p><p>16. ca state bird</p></td></tr></tbody></table>"
      ],
      "text/plain": [
       "<IPython.core.display.HTML object>"
      ]
     },
     "metadata": {},
     "output_type": "display_data"
    },
    {
     "data": {
      "text/html": [
       "<h2>nachos</h2><table border=\"0\" cellpadding=\"10\"><tbody><tr><td><img src=\"la-venadita-sacramento/menu/nachos/zddcM2T7jSMQafo55NPxMA.jpg\" width=\"400\"/></td><td><p>1. toast</p><p>2. salad</p><p>3. pappardelle</p><p>4. hibiscus tea brunch</p><p><strong>5. nachos</strong></p><p>6. lamb meatballs</p><p>7. bulgogi beef</p><p>8. fried mozzarella</p><p>9. prime rib</p><p>10. baked burrata & squash</p><p>11. poki tuna sashimi special</p><p>12. toast</p><p>13. hibiscus tea brunch</p><p><strong>14. nachos</strong></p><p>15. 50 soft tofu jige</p><p>16. combo 1</p></td></tr></tbody></table>"
      ],
      "text/plain": [
       "<IPython.core.display.HTML object>"
      ]
     },
     "metadata": {},
     "output_type": "display_data"
    },
    {
     "data": {
      "text/html": [
       "<h2>california roll</h2><table border=\"0\" cellpadding=\"10\"><tbody><tr><td><img src=\"the-izakaya-sacramento/menu/california roll/Z5U73vDKns_eFXw67BHRuQ.jpg\" width=\"400\"/></td><td><p>1. toast</p><p>2. teriyaki zen taco</p><p>3. rincon</p><p>4. cebiche la mar</p><p>5. wonton noodle soup</p><p>6. prime rib</p><p>7. pumpkin fries dinner</p><p>8. hat yai fried chicken lunch</p><p><strong>9. california roll</strong></p><p>10. rincon</p><p>11. chicken fried rice</p></td></tr></tbody></table>"
      ],
      "text/plain": [
       "<IPython.core.display.HTML object>"
      ]
     },
     "metadata": {},
     "output_type": "display_data"
    },
    {
     "data": {
      "text/html": [
       "<h2>ca state bird</h2><table border=\"0\" cellpadding=\"10\"><tbody><tr><td><img src=\"new-china-restaurant-sacramento/menu/chicken/eREkOdJAFfLdK7KJfkCJCQ.jpg\" width=\"400\"/></td><td><p>1. wings</p><p>2. hibiscus tea brunch</p><p>3. soup</p><p>4. fried apple pie</p><p>5. scotch benedict</p><p>6. clam chowder</p><p>7. frisco benedict breakfast</p><p>8. cheese plate</p><p>9. award winning clam chowder</p><p><strong>10. ca state bird</strong></p></td></tr></tbody></table>"
      ],
      "text/plain": [
       "<IPython.core.display.HTML object>"
      ]
     },
     "metadata": {},
     "output_type": "display_data"
    },
    {
     "name": "stderr",
     "output_type": "stream",
     "text": [
      "/usr/local/lib/python2.7/dist-packages/ipykernel_launcher.py:25: RuntimeWarning: divide by zero encountered in double_scalars\n"
     ]
    },
    {
     "data": {
      "text/html": [
       "<h2>lobster fra diavolo</h2><table border=\"0\" cellpadding=\"10\"><tbody><tr><td><img src=\"rpm-italian-washington-4/dinner menu/lobster fra diavolo/PxamZRP8WnD44ErAbLRFyg.jpg\" width=\"400\"/></td><td><p>1. chirashi</p><p>2. hibiscus tea brunch</p><p>3. coconut rice</p><p>4. seafood combo platter</p><p>5. guacamole & new world chips</p><p>6. jumbo lump crab cake</p><p>7. zazie's niman ranch burger</p><p>8. double cheeseburger</p><p>9. tenders</p><p>10. scoma's famous clam chowder</p><p>11. pork belly rice bowl</p><p><strong>12. lobster fra diavolo</strong></p></td></tr></tbody></table>"
      ],
      "text/plain": [
       "<IPython.core.display.HTML object>"
      ]
     },
     "metadata": {},
     "output_type": "display_data"
    },
    {
     "data": {
      "text/html": [
       "<h2>mercimek koftesi</h2><table border=\"0\" cellpadding=\"10\"><tbody><tr><td><img src=\"zaytinya-washington/lunch menu/mercimek koftesi/gJN3s1_Lpt5jbei1VieCyQ.jpg\" width=\"400\"/></td><td><p>1. bacon</p><p>2. produce bar</p><p>3. croque madame</p><p>4. kmg</p><p>5. hommus</p><p>6. nachos</p><p>7. fried oysters</p><p>8. st. louis gooey cake</p><p><strong>9. mercimek koftesi</strong></p><p>10. bottomless mimosas</p><p>11. lemon pepper duck breast</p></td></tr></tbody></table>"
      ],
      "text/plain": [
       "<IPython.core.display.HTML object>"
      ]
     },
     "metadata": {},
     "output_type": "display_data"
    }
   ],
   "source": [
    "DATA_FOLDER = \"/media/marcvaldivia/UB/TFG/dataset\"\n",
    "s = 'val'\n",
    "\n",
    "with open(\"%s/data/predictions_%s.txt\" % (DATA_FOLDER, s), 'r') as fp:   # Unpickling\n",
    "    predictions = pickle.load(fp)\n",
    "\n",
    "index = open(\"%s/data/index_%s.txt\" % (DATA_FOLDER, s), 'r')\n",
    "outs = open(\"%s/data/new_outs_%s.txt\" % (DATA_FOLDER, s), 'r')\n",
    "links = open(\"%s/data/new_links_%s.txt\" % (DATA_FOLDER, s), 'r')\n",
    "dishes = open(\"%s/data/new_dishes_%s.txt\" % (DATA_FOLDER, s), 'r')\n",
    "i_content = [int(x.strip()) for x in index.readlines()]\n",
    "o_content = [int(x.strip()) for x in outs.readlines()]\n",
    "l_content = [x.strip() for x in links.readlines()]\n",
    "d_content = [x.strip() for x in dishes.readlines()]\n",
    "prev_i = 0\n",
    "total = 0\n",
    "for i in i_content:\n",
    "    dishes = d_content[prev_i:prev_i + i]\n",
    "    links = l_content[prev_i:prev_i + i]\n",
    "    r_loss = predictions[total]\n",
    "    max_o = np.argmax(o_content[prev_i:prev_i + i])\n",
    "    sorted_i = np.argsort([-x[0] for x in predictions[prev_i:prev_i + i]])\n",
    "    if total%500 == 0:\n",
    "        display_dish(dishes[max_o], dishes, [dishes[i] for i in sorted_i], links[max_o][1:].replace(\".npy\", \".jpg\"))\n",
    "    acc = (i - list(sorted_i).index(max_o)) * 1.0 / i\n",
    "    prev_i += i\n",
    "    total += 1"
   ]
  },
  {
   "cell_type": "code",
   "execution_count": null,
   "metadata": {},
   "outputs": [],
   "source": []
  }
 ],
 "metadata": {
  "kernelspec": {
   "display_name": "Python 2",
   "language": "python",
   "name": "python2"
  },
  "language_info": {
   "codemirror_mode": {
    "name": "ipython",
    "version": 2
   },
   "file_extension": ".py",
   "mimetype": "text/x-python",
   "name": "python",
   "nbconvert_exporter": "python",
   "pygments_lexer": "ipython2",
   "version": "2.7.12"
  }
 },
 "nbformat": 4,
 "nbformat_minor": 2
}
