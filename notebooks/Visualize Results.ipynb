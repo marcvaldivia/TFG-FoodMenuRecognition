{
 "cells": [
  {
   "cell_type": "code",
   "execution_count": 1,
   "metadata": {},
   "outputs": [],
   "source": [
    "import matplotlib.pyplot as plt\n",
    "import matplotlib.patches as mpatches\n",
    "from IPython.core.display import display, HTML\n",
    "import numpy as np\n",
    "import fnmatch\n",
    "import os\n",
    "import random"
   ]
  },
  {
   "cell_type": "code",
   "execution_count": 2,
   "metadata": {},
   "outputs": [],
   "source": [
    "dataset = \"/Users/yoda/Documents/TFG/dataset\"\n",
    "restaurants = [\"%s/%s\" % (dataset, x) for x in os.listdir(dataset) if os.path.isdir(\"%s/%s\" % (dataset, x))]"
   ]
  },
  {
   "cell_type": "code",
   "execution_count": 3,
   "metadata": {},
   "outputs": [],
   "source": [
    "number_of_dishes = 3\n",
    "number_of_samples = 3"
   ]
  },
  {
   "cell_type": "code",
   "execution_count": 4,
   "metadata": {},
   "outputs": [],
   "source": [
    "selected = list()\n",
    "for i in range(number_of_dishes):\n",
    "    r = random.choice(restaurants)\n",
    "    menus = [\"%s/%s\" % (r, x) for x in os.listdir(r) if os.path.isdir(\"%s/%s\" % (r, x))]\n",
    "    m = random.choice(menus)\n",
    "    dishes = [\"%s/%s\" % (m, x) for x in os.listdir(m) if os.path.isdir(\"%s/%s\" % (m, x))]\n",
    "    d = random.choice(dishes)\n",
    "    jpgs = [\"%s/%s\" % (d, x) for x in os.listdir(r\"%s\" % d) if x.endswith(\".jpg\")]\n",
    "    for img in random.sample(jpgs, number_of_samples):\n",
    "        selected.append((img, d, dishes))"
   ]
  },
  {
   "cell_type": "code",
   "execution_count": 5,
   "metadata": {},
   "outputs": [],
   "source": [
    "dish = \"Spanakotiropita\"\n",
    "name, menu = \"Test\", [\"Spanakotiropita\", \"Dolmathes\", \"Saghanaki\", \"Crispy Zucchini Cakes\"]\n",
    "prediction = [\"Dolmathes\", \"Spanakotiropita\", \"Crispy Zucchini Cakes\", \"Saghanaki\"]\n",
    "text = '<h2>%s</h2>' \\\n",
    "        '<table border=\"0\" cellpadding=\"10\"><tbody><tr><td>' \\\n",
    "        '<img src=\"%s\" width=\"400\"/></td><td>' \\\n",
    "        '%s</td><td>%s</td></tr></tbody></table>'\n",
    "menus = ''\n",
    "for m in menu:\n",
    "    if m == dish:\n",
    "        menus += '<p><strong>' + m + '</strong></p>'\n",
    "    else:\n",
    "        menus += '<p>' + m + '</p>'\n",
    "\n",
    "predictions = ''\n",
    "for idx, p in enumerate(prediction):\n",
    "    idx += 1\n",
    "    if p == dish:\n",
    "        predictions += '<p><strong>' + str(idx) + '. ' + p + '</strong></p>'\n",
    "    else:\n",
    "        predictions += '<p>' + str(idx) + '. ' + p + '</p>'"
   ]
  },
  {
   "cell_type": "code",
   "execution_count": 6,
   "metadata": {},
   "outputs": [
    {
     "data": {
      "text/html": [
       "<h2>Test</h2><table border=\"0\" cellpadding=\"10\"><tbody><tr><td><img src=\"https://s3-media2.fl.yelpcdn.com/bphoto/IgjwNSmFCUMOb11rpGPPmg/o.jpg\" width=\"400\"/></td><td><p><strong>Spanakotiropita</strong></p><p>Dolmathes</p><p>Saghanaki</p><p>Crispy Zucchini Cakes</p></td><td><p>1. Dolmathes</p><p><strong>2. Spanakotiropita</strong></p><p>3. Crispy Zucchini Cakes</p><p>4. Saghanaki</p></td></tr></tbody></table>"
      ],
      "text/plain": [
       "<IPython.core.display.HTML object>"
      ]
     },
     "metadata": {},
     "output_type": "display_data"
    }
   ],
   "source": [
    "display(HTML(text % (name, \"https://s3-media2.fl.yelpcdn.com/bphoto/IgjwNSmFCUMOb11rpGPPmg/o.jpg\", menus, predictions)))"
   ]
  },
  {
   "cell_type": "code",
   "execution_count": null,
   "metadata": {},
   "outputs": [],
   "source": []
  }
 ],
 "metadata": {
  "kernelspec": {
   "display_name": "Python 2",
   "language": "python",
   "name": "python2"
  },
  "language_info": {
   "codemirror_mode": {
    "name": "ipython",
    "version": 2
   },
   "file_extension": ".py",
   "mimetype": "text/x-python",
   "name": "python",
   "nbconvert_exporter": "python",
   "pygments_lexer": "ipython2",
   "version": "2.7.14"
  }
 },
 "nbformat": 4,
 "nbformat_minor": 2
}
